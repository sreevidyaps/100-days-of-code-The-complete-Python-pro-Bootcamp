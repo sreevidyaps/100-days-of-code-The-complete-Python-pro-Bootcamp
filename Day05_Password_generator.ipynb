{
  "nbformat": 4,
  "nbformat_minor": 0,
  "metadata": {
    "colab": {
      "provenance": []
    },
    "kernelspec": {
      "name": "python3",
      "display_name": "Python 3"
    },
    "language_info": {
      "name": "python"
    }
  },
  "cells": [
    {
      "cell_type": "code",
      "execution_count": 49,
      "metadata": {
        "id": "aup-MONL03w3",
        "colab": {
          "base_uri": "https://localhost:8080/"
        },
        "outputId": "85c47335-d20b-46a5-d199-8b8ad319c27a"
      },
      "outputs": [
        {
          "output_type": "stream",
          "name": "stdout",
          "text": [
            "Welcome to the PyPassword Generator!\n",
            "How many letters would you like in your password?\n",
            "2\n",
            "How many symbols would you like?\n",
            "2\n",
            "How many numbers would you like?\n",
            "2\n",
            "PR%(72\n",
            "27RP%(\n"
          ]
        }
      ],
      "source": [
        "#Password Generator Project\n",
        "import random\n",
        "letters = ['a', 'b', 'c', 'd', 'e', 'f', 'g', 'h', 'i', 'j', 'k', 'l', 'm', 'n', 'o', 'p', 'q', 'r', 's', 't', 'u', 'v', 'w', 'x', 'y', 'z', 'A', 'B', 'C', 'D', 'E', 'F', 'G', 'H', 'I', 'J', 'K', 'L', 'M', 'N', 'O', 'P', 'Q', 'R', 'S', 'T', 'U', 'V', 'W', 'X', 'Y', 'Z']\n",
        "numbers = ['0', '1', '2', '3', '4', '5', '6', '7', '8', '9']\n",
        "symbols = ['!', '#', '$', '%', '&', '(', ')', '*', '+']\n",
        "\n",
        "print(\"Welcome to the PyPassword Generator!\")\n",
        "nr_letters= int(input(\"How many letters would you like in your password?\\n\"))\n",
        "nr_symbols = int(input(f\"How many symbols would you like?\\n\"))\n",
        "nr_numbers = int(input(f\"How many numbers would you like?\\n\"))\n",
        "\n",
        "pw=\"\"\n",
        "for i in range(nr_letters):\n",
        "  n=random.randint(0,51)\n",
        "  pw=pw+letters[n]\n",
        "# print(pw)\n",
        "for i in range(nr_symbols):\n",
        "  n=random.randint(0,8)\n",
        "  pw=pw+symbols[n]\n",
        "# print(pw)\n",
        "\n",
        "for i in range(nr_numbers):\n",
        "  n=random.randint(0,9)\n",
        "  pw=pw+str(numbers[n])\n",
        "print(pw)\n",
        "\n",
        "letters = list(pw)\n",
        "shuffled_letters = random.sample(letters, len(letters))\n",
        "\n",
        "# print(str(shuffled_letters))\n",
        "string = \"\".join(shuffled_letters)  # Empty separator \"\" joins characters without any delimiters\n",
        "print(string)\n",
        "\n",
        "\n",
        "\n",
        "\n",
        "#Eazy Level - Order not randomised:\n",
        "#e.g. 4 letter, 2 symbol, 2 number = JduE&!91\n",
        "\n",
        "\n",
        "#Hard Level - Order of characters randomised:\n",
        "#e.g. 4 letter, 2 symbol, 2 number = g^2jk8&P"
      ]
    }
  ]
}