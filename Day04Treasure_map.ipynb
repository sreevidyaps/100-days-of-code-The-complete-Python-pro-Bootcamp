{
  "nbformat": 4,
  "nbformat_minor": 0,
  "metadata": {
    "colab": {
      "provenance": []
    },
    "kernelspec": {
      "name": "python3",
      "display_name": "Python 3"
    },
    "language_info": {
      "name": "python"
    }
  },
  "cells": [
    {
      "cell_type": "code",
      "execution_count": 8,
      "metadata": {
        "colab": {
          "base_uri": "https://localhost:8080/"
        },
        "id": "WxMfAQicVpCB",
        "outputId": "8d0d24a8-022b-48c6-99a5-451238a1cf91"
      },
      "outputs": [
        {
          "output_type": "stream",
          "name": "stdout",
          "text": [
            "Hiding your treasure! X marks the spot.\n",
            "B3\n",
            "['⬜️', '️⬜️', '️⬜️']\n",
            "['⬜️', '⬜️', '️⬜️']\n",
            "['⬜️️', 'X', '⬜️️']\n"
          ]
        }
      ],
      "source": [
        "line1 = [\"⬜️\",\"️⬜️\",\"️⬜️\"]\n",
        "line2 = [\"⬜️\",\"⬜️\",\"️⬜️\"]\n",
        "line3 = [\"⬜️️\",\"⬜️️\",\"⬜️️\"]\n",
        "map = [line1, line2, line3]\n",
        "print(\"Hiding your treasure! X marks the spot.\")\n",
        "position = input() # Where do you want to put the treasure?\n",
        "# 🚨 Don't change the code above 👆\n",
        "# Write your code below this row 👇\n",
        "letter=position[0].lower()\n",
        "abc=[\"a\",\"b\",\"c\"]\n",
        "letter_index=abc.index(letter)\n",
        "column=int(position[1])\n",
        "\n",
        "map[column-1][letter_index]=\"X\"\n",
        "\n",
        "\n",
        "# Write your code above this row 👆\n",
        "# 🚨 Don't change the code below 👇\n",
        "print(f\"{line1}\\n{line2}\\n{line3}\")"
      ]
    }
  ]
}