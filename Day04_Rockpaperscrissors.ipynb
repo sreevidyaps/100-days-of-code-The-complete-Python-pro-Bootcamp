{
  "nbformat": 4,
  "nbformat_minor": 0,
  "metadata": {
    "colab": {
      "provenance": []
    },
    "kernelspec": {
      "name": "python3",
      "display_name": "Python 3"
    },
    "language_info": {
      "name": "python"
    }
  },
  "cells": [
    {
      "cell_type": "code",
      "execution_count": 20,
      "metadata": {
        "colab": {
          "base_uri": "https://localhost:8080/"
        },
        "id": "yrp_fMJRQvcP",
        "outputId": "33fc9e61-e30e-4660-c910-36acc0d7ac93"
      },
      "outputs": [
        {
          "output_type": "stream",
          "name": "stdout",
          "text": [
            "What do you choose? Type 0 for rock, 1 for Paper & 2 for Scissors.\n",
            "0\n",
            "You choose :  \n",
            "    _______\n",
            "---'   ____)\n",
            "      (_____)\n",
            "      (_____)\n",
            "      (____)\n",
            "---.__(___)\n",
            "\n",
            "Computer choose :  \n",
            "    _______\n",
            "---'   ____)____\n",
            "          ______)\n",
            "       __________)\n",
            "      (____)\n",
            "---.__(___)\n",
            "\n",
            "you win !\n"
          ]
        }
      ],
      "source": [
        "import random\n",
        "\n",
        "rock = '''\n",
        "    _______\n",
        "---'   ____)\n",
        "      (_____)\n",
        "      (_____)\n",
        "      (____)\n",
        "---.__(___)\n",
        "'''\n",
        "\n",
        "paper = '''\n",
        "    _______\n",
        "---'   ____)____\n",
        "          ______)\n",
        "          _______)\n",
        "         _______)\n",
        "---.__________)\n",
        "'''\n",
        "\n",
        "scissors = '''\n",
        "    _______\n",
        "---'   ____)____\n",
        "          ______)\n",
        "       __________)\n",
        "      (____)\n",
        "---.__(___)\n",
        "'''\n",
        "game=[rock,paper,scissors]\n",
        "choice=int(input(\"What do you choose? Type 0 for rock, 1 for Paper & 2 for Scissors.\\n\"))\n",
        "print(\"You choose : \" ,game[choice])\n",
        "\n",
        "\n",
        "computer=random.randint(0,2)\n",
        "print(\"Computer choose : \" ,game[computer])\n",
        "\n",
        "if choice==computer:\n",
        "  print(\"It's a draw !\")\n",
        "elif choice > computer:\n",
        "  if computer +1 == choice :\n",
        "    print (\"You won !\")\n",
        "  else:\n",
        "    print(\"you lose !\")\n",
        "else:\n",
        "  if choice +1 == computer :\n",
        "    print(\"You lose\")\n",
        "  else:\n",
        "    print(\"you win !\")"
      ]
    }
  ]
}