{
  "nbformat": 4,
  "nbformat_minor": 0,
  "metadata": {
    "colab": {
      "provenance": []
    },
    "kernelspec": {
      "name": "python3",
      "display_name": "Python 3"
    },
    "language_info": {
      "name": "python"
    }
  },
  "cells": [
    {
      "cell_type": "code",
      "source": [
        "# Input a Python list of student heights\n",
        "print(\"Input students heights seperated with space\")\n",
        "student_heights = input().split()\n",
        "for n in range(0, len(student_heights)):\n",
        "  student_heights[n] = int(student_heights[n])\n",
        "# 🚨 Don't change the code above 👆\n",
        "# Write your code below this row 👇\n",
        "total=0\n",
        "for i in (student_heights):\n",
        "\n",
        "  total = i + total\n",
        "\n",
        "print (\"total height =\",total)\n",
        "print(\"number of students =\", len(student_heights))\n",
        "avg=total/len(student_heights)\n",
        "print(\"average height =\",round(avg))"
      ],
      "metadata": {
        "colab": {
          "base_uri": "https://localhost:8080/"
        },
        "id": "wkz2z1W5c3GK",
        "outputId": "b851bdf1-75ca-4855-e25b-c5b7cda8f66d"
      },
      "execution_count": 8,
      "outputs": [
        {
          "output_type": "stream",
          "name": "stdout",
          "text": [
            "Input students heights seperated with space\n",
            "156 277 356 100 178\n",
            "total height = 1067\n",
            "number of students = 5\n",
            "average height = 213\n"
          ]
        }
      ]
    }
  ]
}