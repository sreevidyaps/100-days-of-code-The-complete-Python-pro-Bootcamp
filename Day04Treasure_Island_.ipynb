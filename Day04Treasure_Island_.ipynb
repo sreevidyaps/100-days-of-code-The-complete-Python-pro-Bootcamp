{
  "nbformat": 4,
  "nbformat_minor": 0,
  "metadata": {
    "colab": {
      "provenance": []
    },
    "kernelspec": {
      "name": "python3",
      "display_name": "Python 3"
    },
    "language_info": {
      "name": "python"
    }
  },
  "cells": [
    {
      "cell_type": "code",
      "execution_count": 19,
      "metadata": {
        "colab": {
          "base_uri": "https://localhost:8080/"
        },
        "id": "bWKyvt6miiHm",
        "outputId": "0f8d9dfe-e69f-4dc6-a804-28066fd51743"
      },
      "outputs": [
        {
          "output_type": "stream",
          "name": "stdout",
          "text": [
            "Welcome to Treasure Island.\n",
            "Your mission is to find the treasure.\n",
            "Where do you want to go? left/right?\n",
            "left\n",
            "Do you want to swim or wait? wait\n",
            "Which door do you want to enter? red/blue/yellow?yellow\n",
            "You win!\n"
          ]
        }
      ],
      "source": [
        "print(\"Welcome to Treasure Island.\\nYour mission is to find the treasure.\" + \"\\nWhere do you want to go? left/right?\")\n",
        "lorr=input()\n",
        "if lorr==\"right\":\n",
        "  print(\"Game over\")\n",
        "\n",
        "else:\n",
        "  swimorwait=input(\"Do you want to swim or wait? \")\n",
        "  if swimorwait==\"swim\":\n",
        "    print(\"Game over\")\n",
        "\n",
        "  else:\n",
        "    door=input(\"Which door do you want to enter? red/blue/yellow?\")\n",
        "    if door==\"yellow\":\n",
        "      print(\"You win!\")\n",
        "    elif door==\"blue\":\n",
        "      print(\"Eaten by beasts. Game over.\")\n",
        "    else:\n",
        "      print(\"Game over\")\n",
        ""
      ]
    },
    {
      "cell_type": "code",
      "source": [],
      "metadata": {
        "id": "vxSoEa0-jd8_"
      },
      "execution_count": null,
      "outputs": []
    }
  ]
}
