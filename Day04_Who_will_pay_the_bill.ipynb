{
  "nbformat": 4,
  "nbformat_minor": 0,
  "metadata": {
    "colab": {
      "provenance": []
    },
    "kernelspec": {
      "name": "python3",
      "display_name": "Python 3"
    },
    "language_info": {
      "name": "python"
    }
  },
  "cells": [
    {
      "cell_type": "code",
      "execution_count": 25,
      "metadata": {
        "colab": {
          "base_uri": "https://localhost:8080/"
        },
        "id": "OKNg13f7nj8B",
        "outputId": "742675d0-7a23-487b-e1e7-43863308c169"
      },
      "outputs": [
        {
          "output_type": "stream",
          "name": "stdout",
          "text": [
            "Give me everybody's names, separated by a comma. Anju, Kunju, Ranju, Sanju\n",
            "Kunju Will have to pay.\n"
          ]
        }
      ],
      "source": [
        "import random\n",
        "names_string = input(\"Give me everybody's names, separated by a comma. \")\n",
        "names=names_string.split(\", \") #splits the name by , and put them in the list names\n",
        "n=len(names)\n",
        "a=random.randint(0,n-1)\n",
        "print(names[a]+ \" Will have to pay.\")"
      ]
    }
  ]
}
