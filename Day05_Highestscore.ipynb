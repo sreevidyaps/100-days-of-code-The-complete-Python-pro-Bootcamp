{
  "nbformat": 4,
  "nbformat_minor": 0,
  "metadata": {
    "colab": {
      "provenance": []
    },
    "kernelspec": {
      "name": "python3",
      "display_name": "Python 3"
    },
    "language_info": {
      "name": "python"
    }
  },
  "cells": [
    {
      "cell_type": "code",
      "execution_count": 1,
      "metadata": {
        "colab": {
          "base_uri": "https://localhost:8080/"
        },
        "id": "fb7Hav3Gq6Ha",
        "outputId": "daf4ffa1-da69-427d-8b0b-2dc4f7ed5dda"
      },
      "outputs": [
        {
          "output_type": "stream",
          "name": "stdout",
          "text": [
            "10 25 67 65\n",
            "The highest score in the class is: 67\n"
          ]
        }
      ],
      "source": [
        "# Input a list of student scores\n",
        "student_scores = input().split()\n",
        "for n in range(0, len(student_scores)):\n",
        "  student_scores[n] = int(student_scores[n])\n",
        "\n",
        "# Write your code below this row 👇\n",
        "high=0\n",
        "for i in student_scores:\n",
        "  if high < i:\n",
        "    high=i\n",
        "print(\"The highest score in the class is:\",high)"
      ]
    }
  ]
}